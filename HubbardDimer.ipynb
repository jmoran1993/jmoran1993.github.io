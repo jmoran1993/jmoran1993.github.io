{
 "cells": [
  {
   "cell_type": "code",
   "execution_count": 1,
   "metadata": {
    "collapsed": true
   },
   "outputs": [],
   "source": [
    "import sys\n",
    "\n",
    "#sys.path.append(\"/home/tayral/Work/TRIQS/source/ed/python\")\n",
    "sys.path.append(\"../python\")\n",
    "from sympy import *\n",
    "from sympy.matrices import *\n",
    "from sympy import init_printing\n",
    "from sympy.utilities.lambdify import lambdify\n",
    "init_printing() \n",
    "from init_creation_ops import *\n",
    "from count_bits import *\n",
    "import itertools"
   ]
  },
  {
   "cell_type": "code",
   "execution_count": 2,
   "metadata": {
    "collapsed": false
   },
   "outputs": [],
   "source": [
    "import numpy as np\n"
   ]
  },
  {
   "cell_type": "code",
   "execution_count": 3,
   "metadata": {
    "collapsed": false
   },
   "outputs": [],
   "source": [
    "\n",
    "class hubbard_dimer:\n",
    "    def __init__(self):\n",
    "        Norb=4\n",
    "        Cdags=init_creation_ops(Norb)\n",
    "        #print Cdags\n",
    "        U, V, mu, t, w, beta, xi, alpha=symbols('U V mu t omega beta xi alpha')\n",
    "        C_dag_up_1, C_dag_dn_1, C_dag_up_2, C_dag_dn_2  = Matrix(Cdags[0]),  Matrix(Cdags[1]), Matrix(Cdags[2]), Matrix(Cdags[3]) \n",
    "\n",
    "        C_up_1, C_dn_1, C_up_2, C_dn_2  = C_dag_up_1.T, C_dag_dn_1.T, C_dag_up_2.T, C_dag_dn_2.T\n",
    "        n_up_1 = C_dag_up_1 * C_up_1\n",
    "        n_dn_1 = C_dag_dn_1 * C_dn_1\n",
    "        n_up_2 = C_dag_up_2 * C_up_2\n",
    "        n_dn_2 = C_dag_dn_2 * C_dn_2\n",
    "        n_1 = n_up_1+n_dn_1\n",
    "        n_2 = n_up_2+n_dn_2\n",
    "        N=n_up_1+n_dn_1+n_up_2+n_dn_2\n",
    "        \n",
    "        H_2site = xi* (n_up_1*n_dn_1+n_up_2*n_dn_2)   \\\n",
    "                  - (mu-alpha+xi*alpha/U)*N\\\n",
    "                  -t *(C_dag_up_1*C_up_2 + C_dag_up_2*C_up_1 + C_dag_dn_1*C_dn_2 + C_dag_dn_2*C_dn_1)\n",
    "\n",
    "        def T(i,j):\n",
    "            '''matrix exchanging rows/cols i and j'''\n",
    "            T_ij = eye(2**Norb)\n",
    "            T_ij[i,i]=0\n",
    "            T_ij[j,j]=0\n",
    "            T_ij[i,j]=1\n",
    "            T_ij[j,i]=1\n",
    "            return T_ij\n",
    "\n",
    "        def diagonalize_blocks(M_block):\n",
    "            L_P = [] #list of eigenvects\n",
    "            L_D = [] #list of diags\n",
    "            for B in M_block.blocks:\n",
    "                P,D = B.diagonalize(normalize=True)\n",
    "                L_P.append(P)\n",
    "                L_D.append(D)\n",
    "            P = BlockMatrix([L_P])\n",
    "            D = BlockMatrix([L_D])\n",
    "            return P,D\n",
    "        def from_blockMatrix_to_Matrix(M):\n",
    "            '''assuming square matrix'''\n",
    "            s = sum([B.shape[0] for B in M.blocks])\n",
    "            Mfull = Matrix(zeros((s,s)))\n",
    "            cum=0\n",
    "            for B in M.blocks:\n",
    "                Mfull[cum:cum+B.shape[0],cum:cum+B.shape[1]]=B\n",
    "                cum+= B.shape[0]\n",
    "            return Mfull\n",
    "\n",
    "        S = T(3,8)*T(7,12)\n",
    "        \n",
    "        H_tilde = S*H_2site*S.T\n",
    "        H_by_blocks = BlockMatrix([H_tilde.get_diag_blocks()])\n",
    "        P,eps = diagonalize_blocks(H_by_blocks)\n",
    "        P_simpl = simplify(P)\n",
    "        P2 = from_blockMatrix_to_Matrix(P_simpl)\n",
    "        eps2 = from_blockMatrix_to_Matrix(eps)\n",
    "        \n",
    "        Z=sum([exp(- beta*eps2[i,i]) for i in range(2**Norb)])\n",
    "        G_term = lambda i, j, c1, cd2 : (P2[:,i].T *S* c1*S.T * P2[:,j])*(P2[:,j].T *S* cd2*S.T * P2[:,i])\\\n",
    "                          *(exp(- beta*eps2[i,i])+exp(- beta*eps2[j,j]))/(w + eps2[i,i]-eps2[j,j])\n",
    "        G_11=sum([G_term(i,j,C_up_1, C_dag_up_1)[0] for (i,j) in itertools.product(range(2**Norb),range(2**Norb))])\n",
    "        G_12=sum([G_term(i,j,C_up_1, C_dag_up_2)[0] for (i,j) in itertools.product(range(2**Norb),range(2**Norb))])\n",
    "        G_22=sum([G_term(i,j,C_up_2, C_dag_up_2)[0] for (i,j) in itertools.product(range(2**Norb),range(2**Norb))])\n",
    "        G_21=sum([G_term(i,j,C_up_2, C_dag_up_1)[0] for (i,j) in itertools.product(range(2**Norb),range(2**Norb))])\n",
    "        det = G_11*G_22-G_12*G_21\n",
    "        G_inv = Z*1/det * Matrix(2,2,[G_22,-G_21,-G_21,G_11])\n",
    "        G_0inv = Matrix(2,2,[w+mu, 0 , 0 ,w+mu])\n",
    "        Sigma = G_0inv -G_inv\n",
    "        self.Sigma_lambda_11 = lambdify((xi,alpha,U,t,beta,mu,w),Sigma[0,0], \"numpy\")\n",
    "        self.Sigma_lambda_12 = lambdify((xi,alpha,U,t,beta,mu,w),Sigma[0,1], \"numpy\")\n",
    "        self.Z_lambda = lambdify((xi,U,mu,t),Z,\"numpy\")\n",
    "        self.evaluate11 = lambda z,alpha,U,t_eval,b_eval,mu_eval,i: self.Sigma_lambda_11(z,alpha,U,t_eval,b_eval,mu_eval,1j*np.pi/b_eval*(2*i+1))\n",
    "        self.evaluate12 = lambda z,alpha,U,t_eval,b_eval,mu_eval,i: self.Sigma_lambda_12(z,alpha,U,t_eval,b_eval,mu_eval,1j*np.pi/b_eval*(2*i+1))\n",
    "\n",
    "    def plotFig11(alph, U, t, beta, mu, i, x_min, x_max, y_min, y_max, N, r_maxi):\n",
    "      T = np.zeros((N,N),dtype='complex')\n",
    "      axis_x = np.linspace(x_min,x_max,N)\n",
    "      axis_y = np.linspace(y_min,y_max,N)\n",
    "      X,Y = np.meshgrid(axis_x,axis_y)\n",
    "      Z = X + Y*1j\n",
    "      T = self.evaluate11(Z, alph,U,t,beta,mu,i)\n",
    "      fig = plt.figure(figsize=(10,8))\n",
    "      plt.imshow(complex_array_to_rgb(T, rmax=r_maxi), extent=(x_min,x_max,y_min,y_max))\n",
    "      fig.gca().add_artist(patches.Circle((0,0), radius=1, color='b', fill=False, linestyle='dashed', lw=2))\n",
    "      fig.gca().add_artist(patches.Circle((0,0), radius=U, color='w', fill=False, linestyle='dashed', lw=2))\n",
    "      fig.suptitle(\"Dimer plot of Sigma11(xi, omega\"+str(i)+\"), to be evaluated at xi=U=\"+str(U)+\", with alpha=\"+str(alph)+\", beta=\"+str(beta)+\", mu=\"+str(mu))\n",
    "\n",
    "    def plotFig12(alph, U, t, beta, mu, i, x_min, x_max, y_min, y_max, N, r_maxi):\n",
    "      T = np.zeros((N,N),dtype='complex')\n",
    "      axis_x = np.linspace(x_min,x_max,N)\n",
    "      axis_y = np.linspace(y_min,y_max,N)\n",
    "      X,Y = np.meshgrid(axis_x,axis_y)\n",
    "      Z = X + Y*1j\n",
    "      T = self.evaluate12(Z, alph,U,t,beta,mu,i)\n",
    "      fig = plt.figure(figsize=(10,8))\n",
    "      plt.imshow(complex_array_to_rgb(T, rmax=r_maxi), extent=(x_min,x_max,y_min,y_max))\n",
    "      fig.gca().add_artist(patches.Circle((0,0), radius=1, color='b', fill=False, linestyle='dashed', lw=2))\n",
    "      fig.gca().add_artist(patches.Circle((0,0), radius=U, color='w', fill=False, linestyle='dashed', lw=2))\n",
    "      fig.suptitle(\"Dimer plot of Sigma12(xi, omega\"+str(i)+\"), to be evaluated at xi=U=\"+str(U)+\", with alpha=\"+str(a)+\", beta=\"+str(beta)+\", mu=\"+str(mu))\n"
   ]
  },
  {
   "cell_type": "code",
   "execution_count": 4,
   "metadata": {
    "collapsed": false
   },
   "outputs": [
    {
     "name": "stdout",
     "output_type": "stream",
     "text": [
      "CPU times: user 34 s, sys: 75.2 ms, total: 34 s\n",
      "Wall time: 34 s\n"
     ]
    }
   ],
   "source": [
    "%time dimer = hubbard_dimer()"
   ]
  },
  {
   "cell_type": "code",
   "execution_count": 5,
   "metadata": {
    "collapsed": false
   },
   "outputs": [
    {
     "data": {
      "text/plain": [
       "(1.2033012647221319-2.4370830028679213j)"
      ]
     },
     "execution_count": 5,
     "metadata": {},
     "output_type": "execute_result"
    }
   ],
   "source": [
    "dimer.evaluate11(1+1j,0,1,1,3,1,0)"
   ]
  },
  {
   "cell_type": "code",
   "execution_count": 6,
   "metadata": {
    "collapsed": true
   },
   "outputs": [],
   "source": [
    "beta = 3 \n",
    "U =1.2\n",
    "mu = 0.48\n",
    "t=0.5"
   ]
  },
  {
   "cell_type": "code",
   "execution_count": 7,
   "metadata": {
    "collapsed": false
   },
   "outputs": [
    {
     "ename": "TypeError",
     "evalue": "plotFig11() takes exactly 12 arguments (13 given)",
     "output_type": "error",
     "traceback": [
      "\u001b[1;31m---------------------------------------------------------------------------\u001b[0m",
      "\u001b[1;31mTypeError\u001b[0m                                 Traceback (most recent call last)",
      "\u001b[1;32m<ipython-input-7-f698170acfc8>\u001b[0m in \u001b[0;36m<module>\u001b[1;34m()\u001b[0m\n\u001b[1;32m----> 1\u001b[1;33m \u001b[0mdimer\u001b[0m\u001b[1;33m.\u001b[0m\u001b[0mplotFig11\u001b[0m\u001b[1;33m(\u001b[0m\u001b[1;36m0\u001b[0m\u001b[1;33m,\u001b[0m\u001b[0mU\u001b[0m\u001b[1;33m,\u001b[0m\u001b[0mt\u001b[0m\u001b[1;33m,\u001b[0m\u001b[0mbeta\u001b[0m\u001b[1;33m,\u001b[0m\u001b[0mmu\u001b[0m\u001b[1;33m,\u001b[0m\u001b[1;36m0\u001b[0m\u001b[1;33m,\u001b[0m\u001b[1;33m-\u001b[0m\u001b[1;36m6\u001b[0m\u001b[1;33m,\u001b[0m\u001b[1;36m6\u001b[0m\u001b[1;33m,\u001b[0m\u001b[1;33m-\u001b[0m\u001b[1;36m6\u001b[0m\u001b[1;33m,\u001b[0m\u001b[1;36m6\u001b[0m\u001b[1;33m,\u001b[0m\u001b[1;36m500\u001b[0m\u001b[1;33m,\u001b[0m\u001b[1;36m1.0\u001b[0m\u001b[1;33m)\u001b[0m\u001b[1;33m\u001b[0m\u001b[0m\n\u001b[0m",
      "\u001b[1;31mTypeError\u001b[0m: plotFig11() takes exactly 12 arguments (13 given)"
     ]
    }
   ],
   "source": [
    "dimer.plotFig11(0,U,t,beta,mu,0,-6,6,-6,6,500,1.0)"
   ]
  },
  {
   "cell_type": "code",
   "execution_count": 11,
   "metadata": {
    "collapsed": true
   },
   "outputs": [],
   "source": [
    "dimer.plotFig11?"
   ]
  },
  {
   "cell_type": "code",
   "execution_count": null,
   "metadata": {
    "collapsed": true
   },
   "outputs": [],
   "source": []
  }
 ],
 "metadata": {
  "kernelspec": {
   "display_name": "Python 2",
   "language": "python",
   "name": "python2"
  },
  "language_info": {
   "codemirror_mode": {
    "name": "ipython",
    "version": 2
   },
   "file_extension": ".py",
   "mimetype": "text/x-python",
   "name": "python",
   "nbconvert_exporter": "python",
   "pygments_lexer": "ipython2",
   "version": "2.7.6"
  }
 },
 "nbformat": 4,
 "nbformat_minor": 0
}
